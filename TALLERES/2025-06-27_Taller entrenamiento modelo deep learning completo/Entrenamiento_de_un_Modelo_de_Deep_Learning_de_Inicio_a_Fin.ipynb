{
  "nbformat": 4,
  "nbformat_minor": 0,
  "metadata": {
    "colab": {
      "provenance": [],
      "gpuType": "T4"
    },
    "kernelspec": {
      "name": "python3",
      "display_name": "Python 3"
    },
    "language_info": {
      "name": "python"
    },
    "accelerator": "GPU"
  },
  "cells": [
    {
      "cell_type": "markdown",
      "source": [
        "# Entrenamiento de un Modelo de Deep Learning de Inicio a Fin\n",
        "\n"
      ],
      "metadata": {
        "id": "TulPfaEWvNcJ"
      }
    },
    {
      "cell_type": "markdown",
      "source": [
        "\n",
        "### ✅ 1. Cargar y visualizar el dataset\n",
        "\n",
        "\n",
        "Utilizaremos MNIST o CIFAR-10 como datasets de ejemplo:"
      ],
      "metadata": {
        "id": "2aNVLOZGnKBw"
      }
    },
    {
      "cell_type": "code",
      "execution_count": 2,
      "metadata": {
        "colab": {
          "base_uri": "https://localhost:8080/"
        },
        "id": "EpcOjxhNmlWu",
        "outputId": "0e9581d1-5976-4c91-9461-84b133f69f23"
      },
      "outputs": [
        {
          "output_type": "stream",
          "name": "stderr",
          "text": [
            "100%|██████████| 9.91M/9.91M [00:00<00:00, 18.2MB/s]\n",
            "100%|██████████| 28.9k/28.9k [00:00<00:00, 489kB/s]\n",
            "100%|██████████| 1.65M/1.65M [00:00<00:00, 4.60MB/s]\n",
            "100%|██████████| 4.54k/4.54k [00:00<00:00, 7.04MB/s]"
          ]
        },
        {
          "output_type": "stream",
          "name": "stdout",
          "text": [
            "Tamaño del set de entrenamiento: 60000\n",
            "Tamaño del set de prueba: 10000\n"
          ]
        },
        {
          "output_type": "stream",
          "name": "stderr",
          "text": [
            "\n"
          ]
        }
      ],
      "source": [
        "\n",
        "\n",
        "\n",
        "import torch\n",
        "from torchvision import datasets, transforms\n",
        "\n",
        "transform = transforms.Compose([\n",
        "    transforms.ToTensor(),\n",
        "    transforms.Normalize((0.5,), (0.5,))\n",
        "])\n",
        "\n",
        "train_data = datasets.MNIST(root='data', train=True, download=True, transform=transform)\n",
        "test_data  = datasets.MNIST(root='data', train=False, download=True, transform=transform)\n",
        "\n",
        "print(\"Tamaño del set de entrenamiento:\", len(train_data))\n",
        "print(\"Tamaño del set de prueba:\", len(test_data))\n",
        "\n"
      ]
    },
    {
      "cell_type": "markdown",
      "source": [
        "Visualizamos ejemplos:"
      ],
      "metadata": {
        "id": "qkCP_ZzJnIZ-"
      }
    },
    {
      "cell_type": "code",
      "source": [
        "\n",
        "import matplotlib.pyplot as plt\n",
        "\n",
        "image, label = train_data[0]\n",
        "plt.imshow(image.squeeze(), cmap='gray')\n",
        "plt.title(f\"Etiqueta: {label}\")\n",
        "plt.show()\n",
        "\n"
      ],
      "metadata": {
        "colab": {
          "base_uri": "https://localhost:8080/",
          "height": 452
        },
        "id": "R-IGIWLLnTA_",
        "outputId": "b3a8c823-a0a1-4947-9be1-b56485816da7"
      },
      "execution_count": 3,
      "outputs": [
        {
          "output_type": "display_data",
          "data": {
            "text/plain": [
              "<Figure size 640x480 with 1 Axes>"
            ],
            "image/png": "[encoded data removed]"
          },
          "metadata": {}
        }
      ]
    },
    {
      "cell_type": "markdown",
      "source": [
        "\n",
        "### ✅ 2. Preparar los dataloaders\n",
        "\n",
        "Dividimos entrenamiento y validación:"
      ],
      "metadata": {
        "id": "6hqG-X5DnRz8"
      }
    },
    {
      "cell_type": "code",
      "source": [
        "\n",
        "\n",
        "from torch.utils.data import random_split, DataLoader\n",
        "\n",
        "train_size = int(0.8 * len(train_data))\n",
        "val_size   = len(train_data) - train_size\n",
        "train_subset, val_subset = random_split(train_data, [train_size, val_size])\n",
        "\n",
        "batch_size = 64\n",
        "\n",
        "train_loader = DataLoader(train_subset, batch_size=batch_size, shuffle=True)\n",
        "val_loader   = DataLoader(val_subset, batch_size=batch_size)\n",
        "test_loader  = DataLoader(test_data, batch_size=batch_size)\n"
      ],
      "metadata": {
        "id": "HUd7FWgjnaG-"
      },
      "execution_count": 4,
      "outputs": []
    },
    {
      "cell_type": "markdown",
      "source": [
        "\n",
        "### ✅ 3. Definir el modelo\n",
        "\n",
        "Creamos una red simple para clasificación:"
      ],
      "metadata": {
        "id": "Y0_X5VggngS-"
      }
    },
    {
      "cell_type": "code",
      "source": [
        "\n",
        "import torch.nn as nn\n",
        "\n",
        "model = nn.Sequential(\n",
        "    nn.Flatten(),\n",
        "    nn.Linear(28*28, 128),\n",
        "    nn.ReLU(),\n",
        "    nn.Dropout(0.2),\n",
        "    nn.Linear(128, 64),\n",
        "    nn.ReLU(),\n",
        "    nn.Linear(64, 10)\n",
        ")\n"
      ],
      "metadata": {
        "id": "fLDzVvKsngl5"
      },
      "execution_count": 5,
      "outputs": []
    },
    {
      "cell_type": "markdown",
      "source": [
        "\n",
        "### ✅ 4. Configurar función de pérdida y optimizador"
      ],
      "metadata": {
        "id": "m9M7CzdFpPoP"
      }
    },
    {
      "cell_type": "code",
      "source": [
        "\n",
        "\n",
        "import torch.optim as optim\n",
        "\n",
        "criterion = nn.CrossEntropyLoss()\n",
        "optimizer = optim.Adam(model.parameters(), lr=0.001)\n",
        "\n"
      ],
      "metadata": {
        "id": "UevsC6nnpP1H"
      },
      "execution_count": 6,
      "outputs": []
    },
    {
      "cell_type": "markdown",
      "source": [
        "\n",
        "### ✅ 5. Entrenar el modelo"
      ],
      "metadata": {
        "id": "HRKiAT4XpWh9"
      }
    },
    {
      "cell_type": "code",
      "source": [
        "\n",
        "\n",
        "device = torch.device(\"cuda\" if torch.cuda.is_available() else \"cpu\")\n",
        "model.to(device)\n",
        "\n",
        "epochs = 10\n",
        "train_losses, val_losses = [], []\n",
        "\n",
        "for epoch in range(epochs):\n",
        "    model.train()\n",
        "    running_loss = 0\n",
        "    for images, labels in train_loader:\n",
        "        images, labels = images.to(device), labels.to(device)\n",
        "\n",
        "        optimizer.zero_grad()\n",
        "        output = model(images)\n",
        "        loss = criterion(output, labels)\n",
        "        loss.backward()\n",
        "        optimizer.step()\n",
        "        running_loss += loss.item()\n",
        "\n",
        "    train_losses.append(running_loss / len(train_loader))\n",
        "\n",
        "    # Validación\n",
        "    model.eval()\n",
        "    val_loss = 0\n",
        "    correct = 0\n",
        "    total = 0\n",
        "    with torch.no_grad():\n",
        "        for images, labels in val_loader:\n",
        "            images, labels = images.to(device), labels.to(device)\n",
        "            output = model(images)\n",
        "            val_loss += criterion(output, labels).item()\n",
        "            _, predicted = torch.max(output.data, 1)\n",
        "            total += labels.size(0)\n",
        "            correct += (predicted == labels).sum().item()\n",
        "\n",
        "    val_losses.append(val_loss / len(val_loader))\n",
        "    accuracy = correct / total\n",
        "\n",
        "    print(f\"Epoch {epoch+1}/{epochs}, Train Loss: {train_losses[-1]:.4f}, Val Loss: {val_losses[-1]:.4f}, Val Accuracy: {accuracy:.4f}\")\n"
      ],
      "metadata": {
        "colab": {
          "base_uri": "https://localhost:8080/"
        },
        "id": "fyz5O-U0pW_t",
        "outputId": "a02dd1e1-5319-42c3-c5a1-d7df243cde8c"
      },
      "execution_count": 7,
      "outputs": [
        {
          "output_type": "stream",
          "name": "stdout",
          "text": [
            "Epoch 1/10, Train Loss: 0.4636, Val Loss: 0.2362, Val Accuracy: 0.9307\n",
            "Epoch 2/10, Train Loss: 0.2356, Val Loss: 0.1803, Val Accuracy: 0.9459\n",
            "Epoch 3/10, Train Loss: 0.1930, Val Loss: 0.1712, Val Accuracy: 0.9458\n",
            "Epoch 4/10, Train Loss: 0.1675, Val Loss: 0.1389, Val Accuracy: 0.9586\n",
            "Epoch 5/10, Train Loss: 0.1524, Val Loss: 0.1262, Val Accuracy: 0.9633\n",
            "Epoch 6/10, Train Loss: 0.1393, Val Loss: 0.1247, Val Accuracy: 0.9609\n",
            "Epoch 7/10, Train Loss: 0.1339, Val Loss: 0.1117, Val Accuracy: 0.9677\n",
            "Epoch 8/10, Train Loss: 0.1200, Val Loss: 0.1218, Val Accuracy: 0.9645\n",
            "Epoch 9/10, Train Loss: 0.1165, Val Loss: 0.1254, Val Accuracy: 0.9637\n",
            "Epoch 10/10, Train Loss: 0.1101, Val Loss: 0.1033, Val Accuracy: 0.9712\n"
          ]
        }
      ]
    },
    {
      "cell_type": "markdown",
      "source": [
        "\n",
        "\n",
        "### ✅ 6. Validación y evaluación del modelo\n",
        "\n",
        "#### 📌 Validación estándar (hold-out)\n",
        "Ya realizada en cada epoch con `val_loader`.\n",
        "\n",
        "#### 📌 K-Fold Cross Validation"
      ],
      "metadata": {
        "id": "VL6pTkgOp5r-"
      }
    },
    {
      "cell_type": "code",
      "source": [
        "\n",
        "\n",
        "from sklearn.model_selection import KFold\n",
        "\n",
        "kf = KFold(n_splits=5)\n",
        "X = torch.stack([train_data[i][0] for i in range(len(train_data))])\n",
        "y = torch.tensor([train_data[i][1] for i in range(len(train_data))])\n",
        "\n"
      ],
      "metadata": {
        "id": "KwHpHQdXp7_4"
      },
      "execution_count": 8,
      "outputs": []
    },
    {
      "cell_type": "markdown",
      "source": [
        "\n",
        "#### 📌 Métricas de evaluación"
      ],
      "metadata": {
        "id": "6y-QDDYeqZ06"
      }
    },
    {
      "cell_type": "code",
      "source": [
        "\n",
        "from sklearn.metrics import classification_report, confusion_matrix\n",
        "import seaborn as sns\n",
        "\n",
        "model.eval()\n",
        "all_preds, all_labels = [], []\n",
        "\n",
        "with torch.no_grad():\n",
        "    for images, labels in test_loader:\n",
        "        images = images.to(device)\n",
        "        output = model(images)\n",
        "        _, preds = torch.max(output, 1)\n",
        "        all_preds.extend(preds.cpu())\n",
        "        all_labels.extend(labels)\n",
        "\n",
        "print(classification_report(all_labels, all_preds))\n"
      ],
      "metadata": {
        "colab": {
          "base_uri": "https://localhost:8080/"
        },
        "id": "Kn__41oiqayF",
        "outputId": "04927a87-ae8f-45ab-860f-3f152d3b671a"
      },
      "execution_count": 9,
      "outputs": [
        {
          "output_type": "stream",
          "name": "stdout",
          "text": [
            "              precision    recall  f1-score   support\n",
            "\n",
            "           0       0.98      0.98      0.98       980\n",
            "           1       0.98      0.99      0.98      1135\n",
            "           2       0.96      0.98      0.97      1032\n",
            "           3       0.97      0.97      0.97      1010\n",
            "           4       0.96      0.99      0.97       982\n",
            "           5       0.98      0.96      0.97       892\n",
            "           6       0.98      0.97      0.98       958\n",
            "           7       0.97      0.97      0.97      1028\n",
            "           8       0.97      0.96      0.97       974\n",
            "           9       0.98      0.96      0.97      1009\n",
            "\n",
            "    accuracy                           0.97     10000\n",
            "   macro avg       0.97      0.97      0.97     10000\n",
            "weighted avg       0.97      0.97      0.97     10000\n",
            "\n"
          ]
        }
      ]
    },
    {
      "cell_type": "markdown",
      "source": [
        "\n",
        "Visualización de la matriz de confusión:"
      ],
      "metadata": {
        "id": "7hl_54rqqjUm"
      }
    },
    {
      "cell_type": "code",
      "source": [
        "\n",
        "cm = confusion_matrix(all_labels, all_preds)\n",
        "sns.heatmap(cm, annot=True, fmt='d', cmap='Blues')\n"
      ],
      "metadata": {
        "colab": {
          "base_uri": "https://localhost:8080/",
          "height": 448
        },
        "id": "sfZojmJDqkA-",
        "outputId": "1dcf0ed7-aaa3-4403-de3a-36670626d9be"
      },
      "execution_count": 10,
      "outputs": [
        {
          "output_type": "execute_result",
          "data": {
            "text/plain": [
              "<Axes: >"
            ]
          },
          "metadata": {},
          "execution_count": 10
        },
        {
          "output_type": "display_data",
          "data": {
            "text/plain": [
              "<Figure size 640x480 with 2 Axes>"
            ],
            "image/png": "[encoded data removed]"
          },
          "metadata": {}
        }
      ]
    },
    {
      "cell_type": "markdown",
      "source": [
        "\n",
        "### ✅ 7. Fine-Tuning con modelo preentrenado\n",
        "\n",
        "Usamos `resnet18` como ejemplo:\n"
      ],
      "metadata": {
        "id": "4hmVv2j_qwRy"
      }
    },
    {
      "cell_type": "code",
      "source": [
        "\n",
        "from torchvision import models\n",
        "\n",
        "model_ft = models.resnet18(pretrained=True)\n",
        "\n",
        "# Congelar todas las capas\n",
        "for param in model_ft.parameters():\n",
        "    param.requires_grad = False\n",
        "\n",
        "# Reemplazar capa final\n",
        "num_ftrs = model_ft.fc.in_features\n",
        "model_ft.fc = nn.Linear(num_ftrs, 10)  # 10 clases\n",
        "\n",
        "model_ft.to(device)\n"
      ],
      "metadata": {
        "colab": {
          "base_uri": "https://localhost:8080/"
        },
        "id": "nG8gbTldqwpx",
        "outputId": "29278402-10e1-4b3f-979d-fdc9ab435743"
      },
      "execution_count": 11,
      "outputs": [
        {
          "output_type": "stream",
          "name": "stderr",
          "text": [
            "/usr/local/lib/python3.11/dist-packages/torchvision/models/_utils.py:208: UserWarning: The parameter 'pretrained' is deprecated since 0.13 and may be removed in the future, please use 'weights' instead.\n",
            "  warnings.warn(\n",
            "/usr/local/lib/python3.11/dist-packages/torchvision/models/_utils.py:223: UserWarning: Arguments other than a weight enum or `None` for 'weights' are deprecated since 0.13 and may be removed in the future. The current behavior is equivalent to passing `weights=ResNet18_Weights.IMAGENET1K_V1`. You can also use `weights=ResNet18_Weights.DEFAULT` to get the most up-to-date weights.\n",
            "  warnings.warn(msg)\n",
            "Downloading: \"https://download.pytorch.org/models/resnet18-f37072fd.pth\" to /root/.cache/torch/hub/checkpoints/resnet18-f37072fd.pth\n",
            "100%|██████████| 44.7M/44.7M [00:00<00:00, 181MB/s]\n"
          ]
        },
        {
          "output_type": "execute_result",
          "data": {
            "text/plain": [
              "ResNet(\n",
              "  (conv1): Conv2d(3, 64, kernel_size=(7, 7), stride=(2, 2), padding=(3, 3), bias=False)\n",
              "  (bn1): BatchNorm2d(64, eps=1e-05, momentum=0.1, affine=True, track_running_stats=True)\n",
              "  (relu): ReLU(inplace=True)\n",
              "  (maxpool): MaxPool2d(kernel_size=3, stride=2, padding=1, dilation=1, ceil_mode=False)\n",
              "  (layer1): Sequential(\n",
              "    (0): BasicBlock(\n",
              "      (conv1): Conv2d(64, 64, kernel_size=(3, 3), stride=(1, 1), padding=(1, 1), bias=False)\n",
              "      (bn1): BatchNorm2d(64, eps=1e-05, momentum=0.1, affine=True, track_running_stats=True)\n",
              "      (relu): ReLU(inplace=True)\n",
              "      (conv2): Conv2d(64, 64, kernel_size=(3, 3), stride=(1, 1), padding=(1, 1), bias=False)\n",
              "      (bn2): BatchNorm2d(64, eps=1e-05, momentum=0.1, affine=True, track_running_stats=True)\n",
              "    )\n",
              "    (1): BasicBlock(\n",
              "      (conv1): Conv2d(64, 64, kernel_size=(3, 3), stride=(1, 1), padding=(1, 1), bias=False)\n",
              "      (bn1): BatchNorm2d(64, eps=1e-05, momentum=0.1, affine=True, track_running_stats=True)\n",
              "      (relu): ReLU(inplace=True)\n",
              "      (conv2): Conv2d(64, 64, kernel_size=(3, 3), stride=(1, 1), padding=(1, 1), bias=False)\n",
              "      (bn2): BatchNorm2d(64, eps=1e-05, momentum=0.1, affine=True, track_running_stats=True)\n",
              "    )\n",
              "  )\n",
              "  (layer2): Sequential(\n",
              "    (0): BasicBlock(\n",
              "      (conv1): Conv2d(64, 128, kernel_size=(3, 3), stride=(2, 2), padding=(1, 1), bias=False)\n",
              "      (bn1): BatchNorm2d(128, eps=1e-05, momentum=0.1, affine=True, track_running_stats=True)\n",
              "      (relu): ReLU(inplace=True)\n",
              "      (conv2): Conv2d(128, 128, kernel_size=(3, 3), stride=(1, 1), padding=(1, 1), bias=False)\n",
              "      (bn2): BatchNorm2d(128, eps=1e-05, momentum=0.1, affine=True, track_running_stats=True)\n",
              "      (downsample): Sequential(\n",
              "        (0): Conv2d(64, 128, kernel_size=(1, 1), stride=(2, 2), bias=False)\n",
              "        (1): BatchNorm2d(128, eps=1e-05, momentum=0.1, affine=True, track_running_stats=True)\n",
              "      )\n",
              "    )\n",
              "    (1): BasicBlock(\n",
              "      (conv1): Conv2d(128, 128, kernel_size=(3, 3), stride=(1, 1), padding=(1, 1), bias=False)\n",
              "      (bn1): BatchNorm2d(128, eps=1e-05, momentum=0.1, affine=True, track_running_stats=True)\n",
              "      (relu): ReLU(inplace=True)\n",
              "      (conv2): Conv2d(128, 128, kernel_size=(3, 3), stride=(1, 1), padding=(1, 1), bias=False)\n",
              "      (bn2): BatchNorm2d(128, eps=1e-05, momentum=0.1, affine=True, track_running_stats=True)\n",
              "    )\n",
              "  )\n",
              "  (layer3): Sequential(\n",
              "    (0): BasicBlock(\n",
              "      (conv1): Conv2d(128, 256, kernel_size=(3, 3), stride=(2, 2), padding=(1, 1), bias=False)\n",
              "      (bn1): BatchNorm2d(256, eps=1e-05, momentum=0.1, affine=True, track_running_stats=True)\n",
              "      (relu): ReLU(inplace=True)\n",
              "      (conv2): Conv2d(256, 256, kernel_size=(3, 3), stride=(1, 1), padding=(1, 1), bias=False)\n",
              "      (bn2): BatchNorm2d(256, eps=1e-05, momentum=0.1, affine=True, track_running_stats=True)\n",
              "      (downsample): Sequential(\n",
              "        (0): Conv2d(128, 256, kernel_size=(1, 1), stride=(2, 2), bias=False)\n",
              "        (1): BatchNorm2d(256, eps=1e-05, momentum=0.1, affine=True, track_running_stats=True)\n",
              "      )\n",
              "    )\n",
              "    (1): BasicBlock(\n",
              "      (conv1): Conv2d(256, 256, kernel_size=(3, 3), stride=(1, 1), padding=(1, 1), bias=False)\n",
              "      (bn1): BatchNorm2d(256, eps=1e-05, momentum=0.1, affine=True, track_running_stats=True)\n",
              "      (relu): ReLU(inplace=True)\n",
              "      (conv2): Conv2d(256, 256, kernel_size=(3, 3), stride=(1, 1), padding=(1, 1), bias=False)\n",
              "      (bn2): BatchNorm2d(256, eps=1e-05, momentum=0.1, affine=True, track_running_stats=True)\n",
              "    )\n",
              "  )\n",
              "  (layer4): Sequential(\n",
              "    (0): BasicBlock(\n",
              "      (conv1): Conv2d(256, 512, kernel_size=(3, 3), stride=(2, 2), padding=(1, 1), bias=False)\n",
              "      (bn1): BatchNorm2d(512, eps=1e-05, momentum=0.1, affine=True, track_running_stats=True)\n",
              "      (relu): ReLU(inplace=True)\n",
              "      (conv2): Conv2d(512, 512, kernel_size=(3, 3), stride=(1, 1), padding=(1, 1), bias=False)\n",
              "      (bn2): BatchNorm2d(512, eps=1e-05, momentum=0.1, affine=True, track_running_stats=True)\n",
              "      (downsample): Sequential(\n",
              "        (0): Conv2d(256, 512, kernel_size=(1, 1), stride=(2, 2), bias=False)\n",
              "        (1): BatchNorm2d(512, eps=1e-05, momentum=0.1, affine=True, track_running_stats=True)\n",
              "      )\n",
              "    )\n",
              "    (1): BasicBlock(\n",
              "      (conv1): Conv2d(512, 512, kernel_size=(3, 3), stride=(1, 1), padding=(1, 1), bias=False)\n",
              "      (bn1): BatchNorm2d(512, eps=1e-05, momentum=0.1, affine=True, track_running_stats=True)\n",
              "      (relu): ReLU(inplace=True)\n",
              "      (conv2): Conv2d(512, 512, kernel_size=(3, 3), stride=(1, 1), padding=(1, 1), bias=False)\n",
              "      (bn2): BatchNorm2d(512, eps=1e-05, momentum=0.1, affine=True, track_running_stats=True)\n",
              "    )\n",
              "  )\n",
              "  (avgpool): AdaptiveAvgPool2d(output_size=(1, 1))\n",
              "  (fc): Linear(in_features=512, out_features=10, bias=True)\n",
              ")"
            ]
          },
          "metadata": {},
          "execution_count": 11
        }
      ]
    },
    {
      "cell_type": "markdown",
      "source": [
        "\n",
        "Entrenamiento:"
      ],
      "metadata": {
        "id": "O-x9ZHkbq4rW"
      }
    },
    {
      "cell_type": "code",
      "source": [
        "optimizer = optim.Adam(model_ft.fc.parameters(), lr=1e-4)\n",
        "criterion = nn.CrossEntropyLoss()\n",
        "\n",
        "# Entrenamiento similar al anterior pero solo con la capa final\n"
      ],
      "metadata": {
        "id": "r_2wDHHEq5OS"
      },
      "execution_count": 12,
      "outputs": []
    },
    {
      "cell_type": "markdown",
      "source": [
        "Para un fine-tuning completo:\n"
      ],
      "metadata": {
        "id": "IwUNUjO7rBBn"
      }
    },
    {
      "cell_type": "code",
      "source": [
        "\n",
        "for param in model_ft.parameters():\n",
        "    param.requires_grad = True\n",
        "\n",
        "optimizer = optim.Adam(model_ft.parameters(), lr=1e-5)\n",
        "\n"
      ],
      "metadata": {
        "id": "Oh6RnKk7rByg"
      },
      "execution_count": 13,
      "outputs": []
    },
    {
      "cell_type": "markdown",
      "source": [
        "\n",
        "Comparar resultados con y sin fine-tuning.\n",
        "\n",
        "\n",
        "\n",
        "### ✅ 8. Guardar y reutilizar el modelo\n"
      ],
      "metadata": {
        "id": "y4hc9z1IrR7A"
      }
    },
    {
      "cell_type": "code",
      "source": [
        "\n",
        "torch.save(model.state_dict(), \"modelo_final.pth\")\n",
        "\n",
        "\n"
      ],
      "metadata": {
        "id": "zK0EZqMxrS1b"
      },
      "execution_count": 14,
      "outputs": []
    },
    {
      "cell_type": "markdown",
      "source": [
        "\n",
        "Para cargarlo después:"
      ],
      "metadata": {
        "id": "qQq0Ow1KrY1c"
      }
    },
    {
      "cell_type": "code",
      "source": [
        "model.load_state_dict(torch.load(\"modelo_final.pth\"))\n",
        "model.eval()"
      ],
      "metadata": {
        "colab": {
          "base_uri": "https://localhost:8080/"
        },
        "id": "FFNbQhcNrdOd",
        "outputId": "c0898373-3a44-4de8-b4b0-dd7677ab6661"
      },
      "execution_count": 15,
      "outputs": [
        {
          "output_type": "execute_result",
          "data": {
            "text/plain": [
              "Sequential(\n",
              "  (0): Flatten(start_dim=1, end_dim=-1)\n",
              "  (1): Linear(in_features=784, out_features=128, bias=True)\n",
              "  (2): ReLU()\n",
              "  (3): Dropout(p=0.2, inplace=False)\n",
              "  (4): Linear(in_features=128, out_features=64, bias=True)\n",
              "  (5): ReLU()\n",
              "  (6): Linear(in_features=64, out_features=10, bias=True)\n",
              ")"
            ]
          },
          "metadata": {},
          "execution_count": 15
        }
      ]
    },
    {
      "cell_type": "code",
      "source": [],
      "metadata": {
        "id": "5FUxL5URt09s"
      },
      "execution_count": 15,
      "outputs": []
    },
    {
      "cell_type": "code",
      "metadata": {
        "colab": {
          "base_uri": "https://localhost:8080/"
        },
        "id": "677dd6c5",
        "outputId": "e2edc939-ae09-4a8e-fc5b-7f2e7cdd9218"
      },
      "source": [
        "# Completar el entrenamiento del modelo fine-tuned\n",
        "epochs_ft = 5  # Puedes ajustar este número\n",
        "train_losses_ft, val_losses_ft = [], []\n",
        "\n",
        "for epoch in range(epochs_ft):\n",
        "    model_ft.train()\n",
        "    running_loss_ft = 0\n",
        "    for images, labels in train_loader:\n",
        "        # Repeat the single channel 3 times to simulate RGB\n",
        "        images = images.repeat(1, 3, 1, 1)\n",
        "        images, labels = images.to(device), labels.to(device)\n",
        "\n",
        "        optimizer.zero_grad()\n",
        "        output_ft = model_ft(images)\n",
        "        loss_ft = criterion(output_ft, labels)\n",
        "        loss_ft.backward()\n",
        "        optimizer.step()\n",
        "        running_loss_ft += loss_ft.item()\n",
        "\n",
        "    train_losses_ft.append(running_loss_ft / len(train_loader))\n",
        "\n",
        "    # Validación del modelo fine-tuned\n",
        "    model_ft.eval()\n",
        "    val_loss_ft = 0\n",
        "    correct_ft = 0\n",
        "    total_ft = 0\n",
        "    with torch.no_grad():\n",
        "        for images, labels in val_loader:\n",
        "            # Repeat the single channel 3 times to simulate RGB\n",
        "            images = images.repeat(1, 3, 1, 1)\n",
        "            images, labels = images.to(device), labels.to(device)\n",
        "            output_ft = model_ft(images)\n",
        "            val_loss_ft += criterion(output_ft, labels).item()\n",
        "            _, predicted_ft = torch.max(output_ft.data, 1)\n",
        "            total_ft += labels.size(0)\n",
        "            correct_ft += (predicted_ft == labels).sum().item()\n",
        "\n",
        "    val_losses_ft.append(val_loss_ft / len(val_loader))\n",
        "    accuracy_ft = correct_ft / total_ft\n",
        "\n",
        "    print(f\"Fine-tuning Epoch {epoch+1}/{epochs_ft}, Train Loss: {train_losses_ft[-1]:.4f}, Val Loss: {val_losses_ft[-1]:.4f}, Val Accuracy: {accuracy_ft:.4f}\")"
      ],
      "execution_count": 17,
      "outputs": [
        {
          "output_type": "stream",
          "name": "stdout",
          "text": [
            "Fine-tuning Epoch 1/5, Train Loss: 0.7330, Val Loss: 0.1611, Val Accuracy: 0.9574\n",
            "Fine-tuning Epoch 2/5, Train Loss: 0.1417, Val Loss: 0.0767, Val Accuracy: 0.9777\n",
            "Fine-tuning Epoch 3/5, Train Loss: 0.0863, Val Loss: 0.0546, Val Accuracy: 0.9848\n",
            "Fine-tuning Epoch 4/5, Train Loss: 0.0581, Val Loss: 0.0467, Val Accuracy: 0.9866\n",
            "Fine-tuning Epoch 5/5, Train Loss: 0.0450, Val Loss: 0.0422, Val Accuracy: 0.9882\n"
          ]
        }
      ]
    },
    {
      "cell_type": "code",
      "metadata": {
        "colab": {
          "base_uri": "https://localhost:8080/",
          "height": 564
        },
        "id": "ab4a912a",
        "outputId": "a23c891d-5b1c-4742-e252-9ecad482feb4"
      },
      "source": [
        "import matplotlib.pyplot as plt\n",
        "\n",
        "plt.figure(figsize=(12, 6))\n",
        "plt.plot(train_losses, label='Train Loss (from scratch)')\n",
        "plt.plot(val_losses, label='Val Loss (from scratch)')\n",
        "plt.plot(train_losses_ft, label='Train Loss (fine-tuning)')\n",
        "plt.plot(val_losses_ft, label='Val Loss (fine-tuning)')\n",
        "plt.xlabel('Epoch')\n",
        "plt.ylabel('Loss')\n",
        "plt.title('Comparison of Training and Validation Losses')\n",
        "plt.legend()\n",
        "plt.grid(True)\n",
        "plt.show()"
      ],
      "execution_count": 18,
      "outputs": [
        {
          "output_type": "display_data",
          "data": {
            "text/plain": [
              "<Figure size 1200x600 with 1 Axes>"
            ],
            "image/png": "[encoded data removed]"
          },
          "metadata": {}
        }
      ]
    }
  ]
}